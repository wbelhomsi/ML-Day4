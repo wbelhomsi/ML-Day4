{
 "cells": [
  {
   "cell_type": "code",
   "execution_count": 13,
   "metadata": {},
   "outputs": [],
   "source": [
    "from __future__ import print_function\n",
    "from keras.layers import Dense, Activation\n",
    "from keras.layers.recurrent import SimpleRNN\n",
    "from keras.models import Sequential\n",
    "import numpy as np"
   ]
  },
  {
   "cell_type": "code",
   "execution_count": 14,
   "metadata": {},
   "outputs": [],
   "source": [
    "fim=open(\"alice.txt\", 'rb')\n",
    "lines=[]\n",
    "for line in fim:\n",
    "    line=line.strip().lower()\n",
    "    line=line.decode(\"ascii\", \"ignore\")\n",
    "    if(len(line)==0):\n",
    "        continue\n",
    "    lines.append(line)\n",
    "fim.close()\n",
    "text=\" \".join(lines)"
   ]
  },
  {
   "cell_type": "markdown",
   "metadata": {},
   "source": [
    "## Counting number of unique chars"
   ]
  },
  {
   "cell_type": "code",
   "execution_count": 15,
   "metadata": {},
   "outputs": [
    {
     "name": "stdout",
     "output_type": "stream",
     "text": [
      "55\n"
     ]
    }
   ],
   "source": [
    "chars=set([c for c in text])\n",
    "nb_chars = len(chars)\n",
    "print(nb_chars)"
   ]
  },
  {
   "cell_type": "code",
   "execution_count": 16,
   "metadata": {},
   "outputs": [],
   "source": [
    "char2index=dict((c,i) for i,c in enumerate(chars))\n",
    "index2char=dict((i,c) for i,c in enumerate(chars))"
   ]
  },
  {
   "cell_type": "code",
   "execution_count": 17,
   "metadata": {},
   "outputs": [],
   "source": [
    "input_chars=[]\n",
    "label_chars=[]"
   ]
  },
  {
   "cell_type": "code",
   "execution_count": 18,
   "metadata": {},
   "outputs": [],
   "source": [
    "for i in range(0, len(text)-11, 1):\n",
    "    input_chars.append(text[i:i+10])\n",
    "    label_chars.append(text[i+10])"
   ]
  },
  {
   "cell_type": "code",
   "execution_count": 19,
   "metadata": {},
   "outputs": [],
   "source": [
    "x= np.zeros((len(input_chars), 10, nb_chars), dtype=np.bool)\n",
    "y= np.zeros((len(input_chars), nb_chars), dtype=np.bool)"
   ]
  },
  {
   "cell_type": "code",
   "execution_count": 20,
   "metadata": {},
   "outputs": [],
   "source": [
    "for i, word in enumerate(input_chars):\n",
    "    for j, ch in enumerate(word):\n",
    "        x[i,j,char2index[ch]] = 1\n",
    "    y[i,char2index[label_chars[i]]]=1"
   ]
  },
  {
   "cell_type": "code",
   "execution_count": null,
   "metadata": {},
   "outputs": [],
   "source": []
  }
 ],
 "metadata": {
  "kernelspec": {
   "display_name": "Python 3",
   "language": "python",
   "name": "python3"
  },
  "language_info": {
   "codemirror_mode": {
    "name": "ipython",
    "version": 3
   },
   "file_extension": ".py",
   "mimetype": "text/x-python",
   "name": "python",
   "nbconvert_exporter": "python",
   "pygments_lexer": "ipython3",
   "version": "3.6.3"
  }
 },
 "nbformat": 4,
 "nbformat_minor": 2
}
